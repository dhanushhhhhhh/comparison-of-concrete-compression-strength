{
  "nbformat": 4,
  "nbformat_minor": 0,
  "metadata": {
    "colab": {
      "provenance": []
    },
    "kernelspec": {
      "name": "python3",
      "display_name": "Python 3"
    },
    "language_info": {
      "name": "python"
    }
  },
  "cells": [
    {
      "cell_type": "code",
      "execution_count": 1,
      "metadata": {
        "id": "qOkjf40Wzamd"
      },
      "outputs": [],
      "source": [
        "import pandas as pd\n",
        "import numpy as np"
      ]
    },
    {
      "cell_type": "code",
      "source": [
        "concrete_data = pd.read_csv('concrete_data.csv')\n",
        "concrete_data.head()"
      ],
      "metadata": {
        "colab": {
          "base_uri": "https://localhost:8080/",
          "height": 206
        },
        "id": "y3NFhaIZzfhS",
        "outputId": "e4e98b55-0477-40c2-e231-54becb18cdcc"
      },
      "execution_count": 2,
      "outputs": [
        {
          "output_type": "execute_result",
          "data": {
            "text/plain": [
              "   Cement  Blast Furnace Slag  Fly Ash  Water  Superplasticizer  \\\n",
              "0   540.0                 0.0      0.0  162.0               2.5   \n",
              "1   540.0                 0.0      0.0  162.0               2.5   \n",
              "2   332.5               142.5      0.0  228.0               0.0   \n",
              "3   332.5               142.5      0.0  228.0               0.0   \n",
              "4   198.6               132.4      0.0  192.0               0.0   \n",
              "\n",
              "   Coarse Aggregate  Fine Aggregate  Age  Strength  \n",
              "0            1040.0           676.0   28     79.99  \n",
              "1            1055.0           676.0   28     61.89  \n",
              "2             932.0           594.0  270     40.27  \n",
              "3             932.0           594.0  365     41.05  \n",
              "4             978.4           825.5  360     44.30  "
            ],
            "text/html": [
              "\n",
              "  <div id=\"df-22493932-6b70-40e6-9da3-03dc36f96d15\">\n",
              "    <div class=\"colab-df-container\">\n",
              "      <div>\n",
              "<style scoped>\n",
              "    .dataframe tbody tr th:only-of-type {\n",
              "        vertical-align: middle;\n",
              "    }\n",
              "\n",
              "    .dataframe tbody tr th {\n",
              "        vertical-align: top;\n",
              "    }\n",
              "\n",
              "    .dataframe thead th {\n",
              "        text-align: right;\n",
              "    }\n",
              "</style>\n",
              "<table border=\"1\" class=\"dataframe\">\n",
              "  <thead>\n",
              "    <tr style=\"text-align: right;\">\n",
              "      <th></th>\n",
              "      <th>Cement</th>\n",
              "      <th>Blast Furnace Slag</th>\n",
              "      <th>Fly Ash</th>\n",
              "      <th>Water</th>\n",
              "      <th>Superplasticizer</th>\n",
              "      <th>Coarse Aggregate</th>\n",
              "      <th>Fine Aggregate</th>\n",
              "      <th>Age</th>\n",
              "      <th>Strength</th>\n",
              "    </tr>\n",
              "  </thead>\n",
              "  <tbody>\n",
              "    <tr>\n",
              "      <th>0</th>\n",
              "      <td>540.0</td>\n",
              "      <td>0.0</td>\n",
              "      <td>0.0</td>\n",
              "      <td>162.0</td>\n",
              "      <td>2.5</td>\n",
              "      <td>1040.0</td>\n",
              "      <td>676.0</td>\n",
              "      <td>28</td>\n",
              "      <td>79.99</td>\n",
              "    </tr>\n",
              "    <tr>\n",
              "      <th>1</th>\n",
              "      <td>540.0</td>\n",
              "      <td>0.0</td>\n",
              "      <td>0.0</td>\n",
              "      <td>162.0</td>\n",
              "      <td>2.5</td>\n",
              "      <td>1055.0</td>\n",
              "      <td>676.0</td>\n",
              "      <td>28</td>\n",
              "      <td>61.89</td>\n",
              "    </tr>\n",
              "    <tr>\n",
              "      <th>2</th>\n",
              "      <td>332.5</td>\n",
              "      <td>142.5</td>\n",
              "      <td>0.0</td>\n",
              "      <td>228.0</td>\n",
              "      <td>0.0</td>\n",
              "      <td>932.0</td>\n",
              "      <td>594.0</td>\n",
              "      <td>270</td>\n",
              "      <td>40.27</td>\n",
              "    </tr>\n",
              "    <tr>\n",
              "      <th>3</th>\n",
              "      <td>332.5</td>\n",
              "      <td>142.5</td>\n",
              "      <td>0.0</td>\n",
              "      <td>228.0</td>\n",
              "      <td>0.0</td>\n",
              "      <td>932.0</td>\n",
              "      <td>594.0</td>\n",
              "      <td>365</td>\n",
              "      <td>41.05</td>\n",
              "    </tr>\n",
              "    <tr>\n",
              "      <th>4</th>\n",
              "      <td>198.6</td>\n",
              "      <td>132.4</td>\n",
              "      <td>0.0</td>\n",
              "      <td>192.0</td>\n",
              "      <td>0.0</td>\n",
              "      <td>978.4</td>\n",
              "      <td>825.5</td>\n",
              "      <td>360</td>\n",
              "      <td>44.30</td>\n",
              "    </tr>\n",
              "  </tbody>\n",
              "</table>\n",
              "</div>\n",
              "      <button class=\"colab-df-convert\" onclick=\"convertToInteractive('df-22493932-6b70-40e6-9da3-03dc36f96d15')\"\n",
              "              title=\"Convert this dataframe to an interactive table.\"\n",
              "              style=\"display:none;\">\n",
              "        \n",
              "  <svg xmlns=\"http://www.w3.org/2000/svg\" height=\"24px\"viewBox=\"0 0 24 24\"\n",
              "       width=\"24px\">\n",
              "    <path d=\"M0 0h24v24H0V0z\" fill=\"none\"/>\n",
              "    <path d=\"M18.56 5.44l.94 2.06.94-2.06 2.06-.94-2.06-.94-.94-2.06-.94 2.06-2.06.94zm-11 1L8.5 8.5l.94-2.06 2.06-.94-2.06-.94L8.5 2.5l-.94 2.06-2.06.94zm10 10l.94 2.06.94-2.06 2.06-.94-2.06-.94-.94-2.06-.94 2.06-2.06.94z\"/><path d=\"M17.41 7.96l-1.37-1.37c-.4-.4-.92-.59-1.43-.59-.52 0-1.04.2-1.43.59L10.3 9.45l-7.72 7.72c-.78.78-.78 2.05 0 2.83L4 21.41c.39.39.9.59 1.41.59.51 0 1.02-.2 1.41-.59l7.78-7.78 2.81-2.81c.8-.78.8-2.07 0-2.86zM5.41 20L4 18.59l7.72-7.72 1.47 1.35L5.41 20z\"/>\n",
              "  </svg>\n",
              "      </button>\n",
              "      \n",
              "  <style>\n",
              "    .colab-df-container {\n",
              "      display:flex;\n",
              "      flex-wrap:wrap;\n",
              "      gap: 12px;\n",
              "    }\n",
              "\n",
              "    .colab-df-convert {\n",
              "      background-color: #E8F0FE;\n",
              "      border: none;\n",
              "      border-radius: 50%;\n",
              "      cursor: pointer;\n",
              "      display: none;\n",
              "      fill: #1967D2;\n",
              "      height: 32px;\n",
              "      padding: 0 0 0 0;\n",
              "      width: 32px;\n",
              "    }\n",
              "\n",
              "    .colab-df-convert:hover {\n",
              "      background-color: #E2EBFA;\n",
              "      box-shadow: 0px 1px 2px rgba(60, 64, 67, 0.3), 0px 1px 3px 1px rgba(60, 64, 67, 0.15);\n",
              "      fill: #174EA6;\n",
              "    }\n",
              "\n",
              "    [theme=dark] .colab-df-convert {\n",
              "      background-color: #3B4455;\n",
              "      fill: #D2E3FC;\n",
              "    }\n",
              "\n",
              "    [theme=dark] .colab-df-convert:hover {\n",
              "      background-color: #434B5C;\n",
              "      box-shadow: 0px 1px 3px 1px rgba(0, 0, 0, 0.15);\n",
              "      filter: drop-shadow(0px 1px 2px rgba(0, 0, 0, 0.3));\n",
              "      fill: #FFFFFF;\n",
              "    }\n",
              "  </style>\n",
              "\n",
              "      <script>\n",
              "        const buttonEl =\n",
              "          document.querySelector('#df-22493932-6b70-40e6-9da3-03dc36f96d15 button.colab-df-convert');\n",
              "        buttonEl.style.display =\n",
              "          google.colab.kernel.accessAllowed ? 'block' : 'none';\n",
              "\n",
              "        async function convertToInteractive(key) {\n",
              "          const element = document.querySelector('#df-22493932-6b70-40e6-9da3-03dc36f96d15');\n",
              "          const dataTable =\n",
              "            await google.colab.kernel.invokeFunction('convertToInteractive',\n",
              "                                                     [key], {});\n",
              "          if (!dataTable) return;\n",
              "\n",
              "          const docLinkHtml = 'Like what you see? Visit the ' +\n",
              "            '<a target=\"_blank\" href=https://colab.research.google.com/notebooks/data_table.ipynb>data table notebook</a>'\n",
              "            + ' to learn more about interactive tables.';\n",
              "          element.innerHTML = '';\n",
              "          dataTable['output_type'] = 'display_data';\n",
              "          await google.colab.output.renderOutput(dataTable, element);\n",
              "          const docLink = document.createElement('div');\n",
              "          docLink.innerHTML = docLinkHtml;\n",
              "          element.appendChild(docLink);\n",
              "        }\n",
              "      </script>\n",
              "    </div>\n",
              "  </div>\n",
              "  "
            ]
          },
          "metadata": {},
          "execution_count": 2
        }
      ]
    },
    {
      "cell_type": "code",
      "source": [
        "concrete_data.shape"
      ],
      "metadata": {
        "colab": {
          "base_uri": "https://localhost:8080/"
        },
        "id": "TpZ5NdUKzliE",
        "outputId": "d27bfdbf-e12b-4ff8-99e3-bfd3f2001718"
      },
      "execution_count": 3,
      "outputs": [
        {
          "output_type": "execute_result",
          "data": {
            "text/plain": [
              "(1030, 9)"
            ]
          },
          "metadata": {},
          "execution_count": 3
        }
      ]
    },
    {
      "cell_type": "code",
      "source": [
        "concrete_data.isnull().sum()"
      ],
      "metadata": {
        "colab": {
          "base_uri": "https://localhost:8080/"
        },
        "id": "sEW8vYDPzoLB",
        "outputId": "9aca0309-dfbf-4418-dfe1-e77941c3a97b"
      },
      "execution_count": 4,
      "outputs": [
        {
          "output_type": "execute_result",
          "data": {
            "text/plain": [
              "Cement                0\n",
              "Blast Furnace Slag    0\n",
              "Fly Ash               0\n",
              "Water                 0\n",
              "Superplasticizer      0\n",
              "Coarse Aggregate      0\n",
              "Fine Aggregate        0\n",
              "Age                   0\n",
              "Strength              0\n",
              "dtype: int64"
            ]
          },
          "metadata": {},
          "execution_count": 4
        }
      ]
    },
    {
      "cell_type": "code",
      "source": [
        "concrete_data_columns = concrete_data.columns\n",
        "predictors = concrete_data[concrete_data_columns[concrete_data_columns != 'Strength']] # all columns except Strength\n",
        "target = concrete_data['Strength'] # Strength column"
      ],
      "metadata": {
        "id": "z4GHP9SrzsGf"
      },
      "execution_count": 5,
      "outputs": []
    },
    {
      "cell_type": "code",
      "source": [
        "predictors.head()"
      ],
      "metadata": {
        "colab": {
          "base_uri": "https://localhost:8080/",
          "height": 206
        },
        "id": "TYM2Ts3izuTS",
        "outputId": "f1a1f06d-a828-470c-f52e-8d1467715387"
      },
      "execution_count": 6,
      "outputs": [
        {
          "output_type": "execute_result",
          "data": {
            "text/plain": [
              "   Cement  Blast Furnace Slag  Fly Ash  Water  Superplasticizer  \\\n",
              "0   540.0                 0.0      0.0  162.0               2.5   \n",
              "1   540.0                 0.0      0.0  162.0               2.5   \n",
              "2   332.5               142.5      0.0  228.0               0.0   \n",
              "3   332.5               142.5      0.0  228.0               0.0   \n",
              "4   198.6               132.4      0.0  192.0               0.0   \n",
              "\n",
              "   Coarse Aggregate  Fine Aggregate  Age  \n",
              "0            1040.0           676.0   28  \n",
              "1            1055.0           676.0   28  \n",
              "2             932.0           594.0  270  \n",
              "3             932.0           594.0  365  \n",
              "4             978.4           825.5  360  "
            ],
            "text/html": [
              "\n",
              "  <div id=\"df-c31fe1ff-bec6-4840-bdc3-3275dd137ec4\">\n",
              "    <div class=\"colab-df-container\">\n",
              "      <div>\n",
              "<style scoped>\n",
              "    .dataframe tbody tr th:only-of-type {\n",
              "        vertical-align: middle;\n",
              "    }\n",
              "\n",
              "    .dataframe tbody tr th {\n",
              "        vertical-align: top;\n",
              "    }\n",
              "\n",
              "    .dataframe thead th {\n",
              "        text-align: right;\n",
              "    }\n",
              "</style>\n",
              "<table border=\"1\" class=\"dataframe\">\n",
              "  <thead>\n",
              "    <tr style=\"text-align: right;\">\n",
              "      <th></th>\n",
              "      <th>Cement</th>\n",
              "      <th>Blast Furnace Slag</th>\n",
              "      <th>Fly Ash</th>\n",
              "      <th>Water</th>\n",
              "      <th>Superplasticizer</th>\n",
              "      <th>Coarse Aggregate</th>\n",
              "      <th>Fine Aggregate</th>\n",
              "      <th>Age</th>\n",
              "    </tr>\n",
              "  </thead>\n",
              "  <tbody>\n",
              "    <tr>\n",
              "      <th>0</th>\n",
              "      <td>540.0</td>\n",
              "      <td>0.0</td>\n",
              "      <td>0.0</td>\n",
              "      <td>162.0</td>\n",
              "      <td>2.5</td>\n",
              "      <td>1040.0</td>\n",
              "      <td>676.0</td>\n",
              "      <td>28</td>\n",
              "    </tr>\n",
              "    <tr>\n",
              "      <th>1</th>\n",
              "      <td>540.0</td>\n",
              "      <td>0.0</td>\n",
              "      <td>0.0</td>\n",
              "      <td>162.0</td>\n",
              "      <td>2.5</td>\n",
              "      <td>1055.0</td>\n",
              "      <td>676.0</td>\n",
              "      <td>28</td>\n",
              "    </tr>\n",
              "    <tr>\n",
              "      <th>2</th>\n",
              "      <td>332.5</td>\n",
              "      <td>142.5</td>\n",
              "      <td>0.0</td>\n",
              "      <td>228.0</td>\n",
              "      <td>0.0</td>\n",
              "      <td>932.0</td>\n",
              "      <td>594.0</td>\n",
              "      <td>270</td>\n",
              "    </tr>\n",
              "    <tr>\n",
              "      <th>3</th>\n",
              "      <td>332.5</td>\n",
              "      <td>142.5</td>\n",
              "      <td>0.0</td>\n",
              "      <td>228.0</td>\n",
              "      <td>0.0</td>\n",
              "      <td>932.0</td>\n",
              "      <td>594.0</td>\n",
              "      <td>365</td>\n",
              "    </tr>\n",
              "    <tr>\n",
              "      <th>4</th>\n",
              "      <td>198.6</td>\n",
              "      <td>132.4</td>\n",
              "      <td>0.0</td>\n",
              "      <td>192.0</td>\n",
              "      <td>0.0</td>\n",
              "      <td>978.4</td>\n",
              "      <td>825.5</td>\n",
              "      <td>360</td>\n",
              "    </tr>\n",
              "  </tbody>\n",
              "</table>\n",
              "</div>\n",
              "      <button class=\"colab-df-convert\" onclick=\"convertToInteractive('df-c31fe1ff-bec6-4840-bdc3-3275dd137ec4')\"\n",
              "              title=\"Convert this dataframe to an interactive table.\"\n",
              "              style=\"display:none;\">\n",
              "        \n",
              "  <svg xmlns=\"http://www.w3.org/2000/svg\" height=\"24px\"viewBox=\"0 0 24 24\"\n",
              "       width=\"24px\">\n",
              "    <path d=\"M0 0h24v24H0V0z\" fill=\"none\"/>\n",
              "    <path d=\"M18.56 5.44l.94 2.06.94-2.06 2.06-.94-2.06-.94-.94-2.06-.94 2.06-2.06.94zm-11 1L8.5 8.5l.94-2.06 2.06-.94-2.06-.94L8.5 2.5l-.94 2.06-2.06.94zm10 10l.94 2.06.94-2.06 2.06-.94-2.06-.94-.94-2.06-.94 2.06-2.06.94z\"/><path d=\"M17.41 7.96l-1.37-1.37c-.4-.4-.92-.59-1.43-.59-.52 0-1.04.2-1.43.59L10.3 9.45l-7.72 7.72c-.78.78-.78 2.05 0 2.83L4 21.41c.39.39.9.59 1.41.59.51 0 1.02-.2 1.41-.59l7.78-7.78 2.81-2.81c.8-.78.8-2.07 0-2.86zM5.41 20L4 18.59l7.72-7.72 1.47 1.35L5.41 20z\"/>\n",
              "  </svg>\n",
              "      </button>\n",
              "      \n",
              "  <style>\n",
              "    .colab-df-container {\n",
              "      display:flex;\n",
              "      flex-wrap:wrap;\n",
              "      gap: 12px;\n",
              "    }\n",
              "\n",
              "    .colab-df-convert {\n",
              "      background-color: #E8F0FE;\n",
              "      border: none;\n",
              "      border-radius: 50%;\n",
              "      cursor: pointer;\n",
              "      display: none;\n",
              "      fill: #1967D2;\n",
              "      height: 32px;\n",
              "      padding: 0 0 0 0;\n",
              "      width: 32px;\n",
              "    }\n",
              "\n",
              "    .colab-df-convert:hover {\n",
              "      background-color: #E2EBFA;\n",
              "      box-shadow: 0px 1px 2px rgba(60, 64, 67, 0.3), 0px 1px 3px 1px rgba(60, 64, 67, 0.15);\n",
              "      fill: #174EA6;\n",
              "    }\n",
              "\n",
              "    [theme=dark] .colab-df-convert {\n",
              "      background-color: #3B4455;\n",
              "      fill: #D2E3FC;\n",
              "    }\n",
              "\n",
              "    [theme=dark] .colab-df-convert:hover {\n",
              "      background-color: #434B5C;\n",
              "      box-shadow: 0px 1px 3px 1px rgba(0, 0, 0, 0.15);\n",
              "      filter: drop-shadow(0px 1px 2px rgba(0, 0, 0, 0.3));\n",
              "      fill: #FFFFFF;\n",
              "    }\n",
              "  </style>\n",
              "\n",
              "      <script>\n",
              "        const buttonEl =\n",
              "          document.querySelector('#df-c31fe1ff-bec6-4840-bdc3-3275dd137ec4 button.colab-df-convert');\n",
              "        buttonEl.style.display =\n",
              "          google.colab.kernel.accessAllowed ? 'block' : 'none';\n",
              "\n",
              "        async function convertToInteractive(key) {\n",
              "          const element = document.querySelector('#df-c31fe1ff-bec6-4840-bdc3-3275dd137ec4');\n",
              "          const dataTable =\n",
              "            await google.colab.kernel.invokeFunction('convertToInteractive',\n",
              "                                                     [key], {});\n",
              "          if (!dataTable) return;\n",
              "\n",
              "          const docLinkHtml = 'Like what you see? Visit the ' +\n",
              "            '<a target=\"_blank\" href=https://colab.research.google.com/notebooks/data_table.ipynb>data table notebook</a>'\n",
              "            + ' to learn more about interactive tables.';\n",
              "          element.innerHTML = '';\n",
              "          dataTable['output_type'] = 'display_data';\n",
              "          await google.colab.output.renderOutput(dataTable, element);\n",
              "          const docLink = document.createElement('div');\n",
              "          docLink.innerHTML = docLinkHtml;\n",
              "          element.appendChild(docLink);\n",
              "        }\n",
              "      </script>\n",
              "    </div>\n",
              "  </div>\n",
              "  "
            ]
          },
          "metadata": {},
          "execution_count": 6
        }
      ]
    },
    {
      "cell_type": "code",
      "source": [
        "target.head()"
      ],
      "metadata": {
        "colab": {
          "base_uri": "https://localhost:8080/"
        },
        "id": "WxhIqI5czxCk",
        "outputId": "f9c4868b-03c3-406c-9787-d07581f9270f"
      },
      "execution_count": 8,
      "outputs": [
        {
          "output_type": "execute_result",
          "data": {
            "text/plain": [
              "0    79.99\n",
              "1    61.89\n",
              "2    40.27\n",
              "3    41.05\n",
              "4    44.30\n",
              "Name: Strength, dtype: float64"
            ]
          },
          "metadata": {},
          "execution_count": 8
        }
      ]
    },
    {
      "cell_type": "code",
      "source": [
        "n_cols = predictors.shape[1] # number of predictors\n",
        "n_cols"
      ],
      "metadata": {
        "colab": {
          "base_uri": "https://localhost:8080/"
        },
        "id": "EwSo5s4-zywr",
        "outputId": "3d1804dd-0dc3-4463-d1f5-37bab0824179"
      },
      "execution_count": 9,
      "outputs": [
        {
          "output_type": "execute_result",
          "data": {
            "text/plain": [
              "8"
            ]
          },
          "metadata": {},
          "execution_count": 9
        }
      ]
    },
    {
      "cell_type": "code",
      "source": [
        "import keras"
      ],
      "metadata": {
        "id": "3nD7vnrGz3Sg"
      },
      "execution_count": 10,
      "outputs": []
    },
    {
      "cell_type": "code",
      "source": [
        "from keras.models import Sequential\n",
        "from keras.layers import Dense"
      ],
      "metadata": {
        "id": "HfDFQb0Az5Em"
      },
      "execution_count": 11,
      "outputs": []
    },
    {
      "cell_type": "code",
      "source": [
        "def regression_model():\n",
        "    # create model\n",
        "    model = Sequential()\n",
        "    model.add(Dense(10, activation='relu', input_shape=(n_cols,)))\n",
        "    model.add(Dense(1))\n",
        "    \n",
        "    # compile model\n",
        "    model.compile(optimizer='adam', loss='mean_squared_error')\n",
        "    return model"
      ],
      "metadata": {
        "id": "88M4OlMf0CKS"
      },
      "execution_count": 12,
      "outputs": []
    },
    {
      "cell_type": "code",
      "source": [
        "from sklearn.model_selection import train_test_split\n",
        "X_train, X_test, y_train, y_test = train_test_split(predictors, target, test_size=0.3, random_state=42)"
      ],
      "metadata": {
        "id": "1Tn1so-h0E5G"
      },
      "execution_count": 13,
      "outputs": []
    },
    {
      "cell_type": "code",
      "source": [
        "model = regression_model()\n",
        "epochs = 50\n",
        "model.fit(X_train, y_train, epochs=epochs, verbose=1)"
      ],
      "metadata": {
        "colab": {
          "base_uri": "https://localhost:8080/"
        },
        "id": "4n_pnTtg0I_G",
        "outputId": "df207450-0ca5-4770-896f-ee07bf8addcb"
      },
      "execution_count": 14,
      "outputs": [
        {
          "output_type": "stream",
          "name": "stdout",
          "text": [
            "Epoch 1/50\n",
            "23/23 [==============================] - 1s 2ms/step - loss: 139418.9531\n",
            "Epoch 2/50\n",
            "23/23 [==============================] - 0s 2ms/step - loss: 62510.4961\n",
            "Epoch 3/50\n",
            "23/23 [==============================] - 0s 1ms/step - loss: 21902.3184\n",
            "Epoch 4/50\n",
            "23/23 [==============================] - 0s 2ms/step - loss: 6253.4653\n",
            "Epoch 5/50\n",
            "23/23 [==============================] - 0s 2ms/step - loss: 2294.5012\n",
            "Epoch 6/50\n",
            "23/23 [==============================] - 0s 1ms/step - loss: 1705.4060\n",
            "Epoch 7/50\n",
            "23/23 [==============================] - 0s 2ms/step - loss: 1592.4844\n",
            "Epoch 8/50\n",
            "23/23 [==============================] - 0s 1ms/step - loss: 1485.8754\n",
            "Epoch 9/50\n",
            "23/23 [==============================] - 0s 1ms/step - loss: 1389.4532\n",
            "Epoch 10/50\n",
            "23/23 [==============================] - 0s 2ms/step - loss: 1295.3785\n",
            "Epoch 11/50\n",
            "23/23 [==============================] - 0s 1ms/step - loss: 1205.6565\n",
            "Epoch 12/50\n",
            "23/23 [==============================] - 0s 2ms/step - loss: 1123.2490\n",
            "Epoch 13/50\n",
            "23/23 [==============================] - 0s 2ms/step - loss: 1043.3456\n",
            "Epoch 14/50\n",
            "23/23 [==============================] - 0s 2ms/step - loss: 972.7209\n",
            "Epoch 15/50\n",
            "23/23 [==============================] - 0s 2ms/step - loss: 902.8711\n",
            "Epoch 16/50\n",
            "23/23 [==============================] - 0s 1ms/step - loss: 845.0165\n",
            "Epoch 17/50\n",
            "23/23 [==============================] - 0s 2ms/step - loss: 786.4524\n",
            "Epoch 18/50\n",
            "23/23 [==============================] - 0s 2ms/step - loss: 732.1384\n",
            "Epoch 19/50\n",
            "23/23 [==============================] - 0s 2ms/step - loss: 681.8851\n",
            "Epoch 20/50\n",
            "23/23 [==============================] - 0s 2ms/step - loss: 636.9787\n",
            "Epoch 21/50\n",
            "23/23 [==============================] - 0s 2ms/step - loss: 593.6888\n",
            "Epoch 22/50\n",
            "23/23 [==============================] - 0s 2ms/step - loss: 554.8721\n",
            "Epoch 23/50\n",
            "23/23 [==============================] - 0s 1ms/step - loss: 516.9703\n",
            "Epoch 24/50\n",
            "23/23 [==============================] - 0s 2ms/step - loss: 483.2778\n",
            "Epoch 25/50\n",
            "23/23 [==============================] - 0s 2ms/step - loss: 451.4101\n",
            "Epoch 26/50\n",
            "23/23 [==============================] - 0s 2ms/step - loss: 423.3803\n",
            "Epoch 27/50\n",
            "23/23 [==============================] - 0s 2ms/step - loss: 395.9982\n",
            "Epoch 28/50\n",
            "23/23 [==============================] - 0s 2ms/step - loss: 372.4488\n",
            "Epoch 29/50\n",
            "23/23 [==============================] - 0s 2ms/step - loss: 349.2731\n",
            "Epoch 30/50\n",
            "23/23 [==============================] - 0s 2ms/step - loss: 327.9584\n",
            "Epoch 31/50\n",
            "23/23 [==============================] - 0s 2ms/step - loss: 309.2076\n",
            "Epoch 32/50\n",
            "23/23 [==============================] - 0s 2ms/step - loss: 292.0576\n",
            "Epoch 33/50\n",
            "23/23 [==============================] - 0s 2ms/step - loss: 276.2033\n",
            "Epoch 34/50\n",
            "23/23 [==============================] - 0s 1ms/step - loss: 261.1697\n",
            "Epoch 35/50\n",
            "23/23 [==============================] - 0s 2ms/step - loss: 248.1353\n",
            "Epoch 36/50\n",
            "23/23 [==============================] - 0s 2ms/step - loss: 235.8259\n",
            "Epoch 37/50\n",
            "23/23 [==============================] - 0s 2ms/step - loss: 225.6470\n",
            "Epoch 38/50\n",
            "23/23 [==============================] - 0s 2ms/step - loss: 215.1604\n",
            "Epoch 39/50\n",
            "23/23 [==============================] - 0s 2ms/step - loss: 206.1289\n",
            "Epoch 40/50\n",
            "23/23 [==============================] - 0s 1ms/step - loss: 198.4534\n",
            "Epoch 41/50\n",
            "23/23 [==============================] - 0s 2ms/step - loss: 191.4032\n",
            "Epoch 42/50\n",
            "23/23 [==============================] - 0s 1ms/step - loss: 184.7576\n",
            "Epoch 43/50\n",
            "23/23 [==============================] - 0s 2ms/step - loss: 178.0510\n",
            "Epoch 44/50\n",
            "23/23 [==============================] - 0s 2ms/step - loss: 172.9130\n",
            "Epoch 45/50\n",
            "23/23 [==============================] - 0s 2ms/step - loss: 167.7960\n",
            "Epoch 46/50\n",
            "23/23 [==============================] - 0s 2ms/step - loss: 163.4801\n",
            "Epoch 47/50\n",
            "23/23 [==============================] - 0s 2ms/step - loss: 159.3805\n",
            "Epoch 48/50\n",
            "23/23 [==============================] - 0s 2ms/step - loss: 155.8277\n",
            "Epoch 49/50\n",
            "23/23 [==============================] - 0s 2ms/step - loss: 152.3647\n",
            "Epoch 50/50\n",
            "23/23 [==============================] - 0s 2ms/step - loss: 149.4379\n"
          ]
        },
        {
          "output_type": "execute_result",
          "data": {
            "text/plain": [
              "<keras.callbacks.History at 0x7fb35b741460>"
            ]
          },
          "metadata": {},
          "execution_count": 14
        }
      ]
    },
    {
      "cell_type": "code",
      "source": [
        "loss_val = model.evaluate(X_test, y_test)\n",
        "y_pred = model.predict(X_test)\n",
        "loss_val"
      ],
      "metadata": {
        "colab": {
          "base_uri": "https://localhost:8080/"
        },
        "id": "D3qXBGdW0NkK",
        "outputId": "2785af11-3a20-4c48-f4b0-9bace2caa574"
      },
      "execution_count": 15,
      "outputs": [
        {
          "output_type": "stream",
          "name": "stdout",
          "text": [
            "10/10 [==============================] - 0s 2ms/step - loss: 139.1727\n",
            "10/10 [==============================] - 0s 4ms/step\n"
          ]
        },
        {
          "output_type": "execute_result",
          "data": {
            "text/plain": [
              "139.1727294921875"
            ]
          },
          "metadata": {},
          "execution_count": 15
        }
      ]
    },
    {
      "cell_type": "code",
      "source": [
        "from sklearn.metrics import mean_squared_error\n",
        "mean_square_error = mean_squared_error(y_test, y_pred)\n",
        "mean = np.mean(mean_square_error)\n",
        "standard_deviation = np.std(mean_square_error)\n",
        "print(mean, standard_deviation)"
      ],
      "metadata": {
        "colab": {
          "base_uri": "https://localhost:8080/"
        },
        "id": "nYc2GvnH0SHZ",
        "outputId": "3441a99d-0334-4d38-df44-a5f1fda31158"
      },
      "execution_count": 16,
      "outputs": [
        {
          "output_type": "stream",
          "name": "stdout",
          "text": [
            "139.17270266116648 0.0\n"
          ]
        }
      ]
    },
    {
      "cell_type": "code",
      "source": [
        "total_mean_squared_errors = 50\n",
        "epochs = 50\n",
        "mean_squared_errors = []\n",
        "for i in range(0, total_mean_squared_errors):\n",
        "    X_train, X_test, y_train, y_test = train_test_split(predictors, target, test_size=0.3, random_state=i)\n",
        "    model.fit(X_train, y_train, epochs=epochs, verbose=0)\n",
        "    MSE = model.evaluate(X_test, y_test, verbose=0)\n",
        "    print(\"MSE \"+str(i+1)+\": \"+str(MSE))\n",
        "    y_pred = model.predict(X_test)\n",
        "    mean_square_error = mean_squared_error(y_test, y_pred)\n",
        "    mean_squared_errors.append(mean_square_error)\n",
        "\n",
        "mean_squared_errors = np.array(mean_squared_errors)\n",
        "mean = np.mean(mean_squared_errors)\n",
        "standard_deviation = np.std(mean_squared_errors)\n",
        "\n",
        "print('\\n')\n",
        "print(\"Below is the mean and standard deviation of \" +str(total_mean_squared_errors) + \" mean squared errors without normalized data. Total number of epochs for each training is: \" +str(epochs) + \"\\n\")\n",
        "print(\"Mean: \"+str(mean))\n",
        "print(\"Standard Deviation: \"+str(standard_deviation))"
      ],
      "metadata": {
        "colab": {
          "base_uri": "https://localhost:8080/"
        },
        "id": "8FMYEfOl0XPl",
        "outputId": "0d0bdc29-66df-4d94-b8d6-c9b2440dcab5"
      },
      "execution_count": 17,
      "outputs": [
        {
          "output_type": "stream",
          "name": "stdout",
          "text": [
            "MSE 1: 91.75331115722656\n",
            "10/10 [==============================] - 0s 2ms/step\n",
            "MSE 2: 116.04656219482422\n",
            "10/10 [==============================] - 0s 2ms/step\n",
            "MSE 3: 94.25325775146484\n",
            "10/10 [==============================] - 0s 2ms/step\n",
            "MSE 4: 81.58324432373047\n",
            "10/10 [==============================] - 0s 2ms/step\n",
            "MSE 5: 56.182159423828125\n",
            "10/10 [==============================] - 0s 2ms/step\n",
            "MSE 6: 49.65441131591797\n",
            "10/10 [==============================] - 0s 2ms/step\n",
            "MSE 7: 59.00056076049805\n",
            "10/10 [==============================] - 0s 2ms/step\n",
            "MSE 8: 43.27541732788086\n",
            "10/10 [==============================] - 0s 2ms/step\n",
            "MSE 9: 46.97658920288086\n",
            "10/10 [==============================] - 0s 2ms/step\n",
            "MSE 10: 51.17279815673828\n",
            "10/10 [==============================] - 0s 2ms/step\n",
            "MSE 11: 47.0470085144043\n",
            "10/10 [==============================] - 0s 2ms/step\n",
            "MSE 12: 46.97188949584961\n",
            "10/10 [==============================] - 0s 2ms/step\n",
            "MSE 13: 54.31538391113281\n",
            "10/10 [==============================] - 0s 2ms/step\n",
            "MSE 14: 49.732215881347656\n",
            "10/10 [==============================] - 0s 2ms/step\n",
            "MSE 15: 48.63741683959961\n",
            "10/10 [==============================] - 0s 2ms/step\n",
            "MSE 16: 41.8182373046875\n",
            "10/10 [==============================] - 0s 2ms/step\n",
            "MSE 17: 48.78232192993164\n",
            "10/10 [==============================] - 0s 2ms/step\n",
            "MSE 18: 47.5816535949707\n",
            "10/10 [==============================] - 0s 2ms/step\n",
            "MSE 19: 58.973236083984375\n",
            "10/10 [==============================] - 0s 1ms/step\n",
            "MSE 20: 47.05022048950195\n",
            "10/10 [==============================] - 0s 2ms/step\n",
            "MSE 21: 42.50059509277344\n",
            "10/10 [==============================] - 0s 2ms/step\n",
            "MSE 22: 45.29901123046875\n",
            "10/10 [==============================] - 0s 2ms/step\n",
            "MSE 23: 44.5377197265625\n",
            "10/10 [==============================] - 0s 2ms/step\n",
            "MSE 24: 43.83769226074219\n",
            "10/10 [==============================] - 0s 2ms/step\n",
            "MSE 25: 44.77957534790039\n",
            "10/10 [==============================] - 0s 2ms/step\n",
            "MSE 26: 45.458221435546875\n",
            "10/10 [==============================] - 0s 2ms/step\n",
            "MSE 27: 49.58202362060547\n",
            "10/10 [==============================] - 0s 2ms/step\n",
            "MSE 28: 42.937007904052734\n",
            "10/10 [==============================] - 0s 2ms/step\n",
            "MSE 29: 59.11125946044922\n",
            "10/10 [==============================] - 0s 2ms/step\n",
            "MSE 30: 44.976402282714844\n",
            "10/10 [==============================] - 0s 2ms/step\n",
            "MSE 31: 47.49054718017578\n",
            "10/10 [==============================] - 0s 2ms/step\n",
            "MSE 32: 39.753753662109375\n",
            "10/10 [==============================] - 0s 2ms/step\n",
            "MSE 33: 45.60553741455078\n",
            "10/10 [==============================] - 0s 2ms/step\n",
            "MSE 34: 45.60216522216797\n",
            "10/10 [==============================] - 0s 2ms/step\n",
            "MSE 35: 49.690555572509766\n",
            "10/10 [==============================] - 0s 2ms/step\n",
            "MSE 36: 50.2399787902832\n",
            "10/10 [==============================] - 0s 2ms/step\n",
            "MSE 37: 48.96879196166992\n",
            "10/10 [==============================] - 0s 2ms/step\n",
            "MSE 38: 50.17674255371094\n",
            "10/10 [==============================] - 0s 2ms/step\n",
            "MSE 39: 42.027435302734375\n",
            "10/10 [==============================] - 0s 2ms/step\n",
            "MSE 40: 41.527610778808594\n",
            "10/10 [==============================] - 0s 2ms/step\n",
            "MSE 41: 49.466270446777344\n",
            "10/10 [==============================] - 0s 2ms/step\n",
            "MSE 42: 40.54256057739258\n",
            "10/10 [==============================] - 0s 2ms/step\n",
            "MSE 43: 44.166908264160156\n",
            "10/10 [==============================] - 0s 3ms/step\n",
            "MSE 44: 49.73493576049805\n",
            "10/10 [==============================] - 0s 2ms/step\n",
            "MSE 45: 46.89110565185547\n",
            "10/10 [==============================] - 0s 2ms/step\n",
            "MSE 46: 46.89897155761719\n",
            "10/10 [==============================] - 0s 2ms/step\n",
            "MSE 47: 45.78553009033203\n",
            "10/10 [==============================] - 0s 2ms/step\n",
            "MSE 48: 55.36615753173828\n",
            "10/10 [==============================] - 0s 2ms/step\n",
            "MSE 49: 44.64170455932617\n",
            "10/10 [==============================] - 0s 2ms/step\n",
            "MSE 50: 47.16509246826172\n",
            "10/10 [==============================] - 0s 2ms/step\n",
            "\n",
            "\n",
            "Below is the mean and standard deviation of 50 mean squared errors without normalized data. Total number of epochs for each training is: 50\n",
            "\n",
            "Mean: 51.511394193113276\n",
            "Standard Deviation: 14.27544689183349\n"
          ]
        }
      ]
    },
    {
      "cell_type": "code",
      "source": [],
      "metadata": {
        "id": "dsOhRjT10am-"
      },
      "execution_count": null,
      "outputs": []
    }
  ]
}